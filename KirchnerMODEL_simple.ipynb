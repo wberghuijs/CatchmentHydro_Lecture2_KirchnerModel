{
 "cells": [
  {
   "cell_type": "markdown",
   "id": "04100e47",
   "metadata": {},
   "source": [
    "# Kirchner Model \n",
    "\n",
    "This is an example Python code for the Kirchner Model. You can use this as a reference when you develop your own model\n",
    "\n",
    "In this implementation we do not derive $\\alpha$ and $\\beta$ from the data, but instead manually asign their values using sliders."
   ]
  },
  {
   "cell_type": "code",
   "execution_count": 1,
   "id": "c0905cc9",
   "metadata": {},
   "outputs": [],
   "source": [
    "# Load some packages\n",
    "\n",
    "import numpy as np\n",
    "import pandas as pd\n",
    "import matplotlib.pyplot as plt\n",
    "import ipywidgets as widgets\n",
    "from matplotlib.pyplot import figure"
   ]
  },
  {
   "cell_type": "code",
   "execution_count": 2,
   "id": "cfe56248",
   "metadata": {},
   "outputs": [],
   "source": [
    "# Load data\n",
    "\n",
    "Qm = np.zeros(17522)\n",
    "delta_t = 1       # timestep of 1 hour (do not change)\n",
    "DATA = pd.read_csv('random_catchment.txt')\n",
    "P = DATA[\"0\"]\n",
    "Q = DATA[\"0.002726\"]\n",
    "E = DATA[\"0.1\"]\n",
    "n = len(Q)    # Checks for how many timesteps there is data\n",
    "Qm[1] = Q[1]  # Initializes the first modeled streamflow value to equal the observation\n",
    "\n",
    "# Define the model\n",
    "def run_model(alpha,beta):\n",
    "    for i in range(1,n-1):   # Loops t\n",
    "        Qm[i+1] = max(0.001,Qm[i] + delta_t * alpha * (Qm[i]**(beta - 1) * (P[i] - E[i] - Qm[i])))\n",
    "        i = i+1    # update counter\n",
    "\n",
    "  # Plot results\n",
    "    plt.close() \n",
    "    fig, ax1 = plt.subplots()\n",
    "    color = 'tab:red'\n",
    "    ax1.set_ylabel('precip (s)')\n",
    "    ax1.set_ylabel('precipitation (mm/h)', color=color)\n",
    "    ax1.set_xlabel('day of simulation')\n",
    "    ax1.plot(P, color=color)\n",
    "    ax1.tick_params(axis='y', labelcolor=color)\n",
    "    ax1.set_ylim([30, 0])\n",
    "    ax2 = ax1.twinx()  # instantiate a second axes that shares the same x-axis\n",
    "\n",
    "    color1 = 'tab:blue'\n",
    "    color2 = 'tab:orange'\n",
    "    ax2.set_ylabel('streamflow (mm/h)', color=color1)  # we already handled the x-label with ax1\n",
    "    ax2.plot(Q, color=color1)\n",
    "    ax2.plot(Qm, color=color2)\n",
    "    ax2.tick_params(axis='y', labelcolor=color1)\n",
    "    #plt.legend(bbox_to_anchor =(0.75, 1.15), ncol = 2)\n",
    "    plt.legend({'observed Q','modeled Q'},)\n",
    "    ax2.set_ylim([-0.1 , 8])\n",
    "    fig.set_size_inches(10.5, 6.5)\n",
    "    fig.tight_layout()  # otherwise the right y-label is slightly clipped\n",
    "    plt.show()"
   ]
  },
  {
   "cell_type": "code",
   "execution_count": 3,
   "id": "4758d705",
   "metadata": {},
   "outputs": [
    {
     "data": {
      "application/vnd.jupyter.widget-view+json": {
       "model_id": "0a97f5fca39d4085ab0c58f67c133496",
       "version_major": 2,
       "version_minor": 0
      },
      "text/plain": [
       "interactive(children=(FloatSlider(value=0.05, description='alpha', max=0.1, step=0.001), FloatSlider(value=1.2…"
      ]
     },
     "metadata": {},
     "output_type": "display_data"
    },
    {
     "data": {
      "text/plain": [
       "<function __main__.run_model(alpha, beta)>"
      ]
     },
     "execution_count": 3,
     "metadata": {},
     "output_type": "execute_result"
    }
   ],
   "source": [
    "# Run model\n",
    "widgets.interact(run_model,alpha =(0 , 0.1, 0.001),beta =(0 , 2.4, 0.001))"
   ]
  },
  {
   "cell_type": "code",
   "execution_count": null,
   "id": "b3baef86",
   "metadata": {},
   "outputs": [],
   "source": []
  }
 ],
 "metadata": {
  "kernelspec": {
   "display_name": "Python 3 (ipykernel)",
   "language": "python",
   "name": "python3"
  },
  "language_info": {
   "codemirror_mode": {
    "name": "ipython",
    "version": 3
   },
   "file_extension": ".py",
   "mimetype": "text/x-python",
   "name": "python",
   "nbconvert_exporter": "python",
   "pygments_lexer": "ipython3",
   "version": "3.9.7"
  }
 },
 "nbformat": 4,
 "nbformat_minor": 5
}
